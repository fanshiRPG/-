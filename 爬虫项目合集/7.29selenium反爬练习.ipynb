{
 "cells": [
  {
   "cell_type": "markdown",
   "id": "7cca752d",
   "metadata": {},
   "source": [
    "# 防止系统检测使用selenium"
   ]
  },
  {
   "cell_type": "code",
   "execution_count": null,
   "id": "5746380e",
   "metadata": {},
   "outputs": [],
   "source": [
    "from selenium import webdriver\n",
    "url='https://www.aqistudy.cn/'\n",
    "\n",
    "opt=webdriver.ChromeOptions()\n",
    "#添加防检测的参数\n",
    "\n",
    "opt.add_argument('--disable-infobars')\n",
    "opt.add_experimental_option('excludeSwitches',['enalbe-automation'])\n",
    "opt.add_experimental_option('useAutomationExtension',False)\n",
    "driver=webdriver.Chrome(options=opt)\n",
    "\n",
    "#在每次打开页面之前，执行该脚本，去除selenium浏览器生成的相关属性\n",
    "\n",
    "with open('hide.js') as f:\n",
    "    driver.execute_cdp_cmd('Page.addScriptToEvaluateOnNewDocument',{'source':f.read()})\n",
    "    \n",
    "driver.get(url)\n",
    "time.sleep(10)\n",
    "driver.quit()"
   ]
  },
  {
   "cell_type": "markdown",
   "id": "201a4e06",
   "metadata": {},
   "source": [
    "# js逆向之参数加密还原 (基础篇）"
   ]
  },
  {
   "cell_type": "code",
   "execution_count": 10,
   "id": "1aabe974",
   "metadata": {},
   "outputs": [
    {
     "name": "stdout",
     "output_type": "stream",
     "text": [
      "{\"description\":\"success\",\"respCode\":0}\n",
      "{'SERVERID': 'c150bba58e20fbe291b54c65c36fe6ff|1722216235|1722216235', 'SESSION': 'd1529fa7-817e-403a-a805-3d30fb1d503d'}\n"
     ]
    }
   ],
   "source": [
    "# https://www.94mxd.com.cn/signin\n",
    "\n",
    "import hashlib\n",
    "import requests\n",
    "\n",
    "def hashPwd(password):\n",
    "    #密码加密的函数\n",
    "    data_string=password+'Hq44cyp4mT9Fh5eNrZ67bjifidFhW%fb0ICjx#6gE59@P@Hr8%!WuYBa1yvytq$qh1FEM18qA8Hp9m3VLux9luIYpeYzA2l2W3Z'\n",
    "    obj=hashlib.md5()\n",
    "    obj.update(data_string.encode('utf-8'))\n",
    "    md5_string=obj.hexdigest()\n",
    "    return md5_string\n",
    "header={\n",
    "    'user-agent':'Mozilla/5.0 (Windows NT 10.0; Win64; x64) AppleWebKit/537.36 (KHTML, like Gecko) Chrome/109.0.0.0 Safari/537.36 SLBrowser/9.0.3.5211 SLBChan/105'\n",
    "}\n",
    "datas={\n",
    "                     'email':'1561028598@qq.com',\n",
    "                     'password':hashPwd('5201314zhouning')\n",
    "                 }\n",
    "url='https://www.94mxd.com.cn/mxd/user/signin'\n",
    "res=requests.post(url,\n",
    "                  json={\n",
    "                     'email':'1561028598@qq.com',\n",
    "                     'password':hashPwd('5201314zhouning')\n",
    "                 })\n",
    "print(res.text)\n",
    "print(res.cookies.get_dict())"
   ]
  },
  {
   "cell_type": "markdown",
   "id": "11fd2377",
   "metadata": {},
   "source": [
    "# js逆向（难度升级版本）"
   ]
  },
  {
   "cell_type": "code",
   "execution_count": 11,
   "id": "3ddb3954",
   "metadata": {},
   "outputs": [
    {
     "name": "stdout",
     "output_type": "stream",
     "text": [
      "Defaulting to user installation because normal site-packages is not writeable\n",
      "Collecting pyexecjs\n",
      "  Downloading PyExecJS-1.5.1.tar.gz (13 kB)\n",
      "  Preparing metadata (setup.py): started\n",
      "  Preparing metadata (setup.py): finished with status 'done'\n",
      "Requirement already satisfied: six>=1.10.0 in c:\\programdata\\anaconda3\\lib\\site-packages (from pyexecjs) (1.16.0)\n",
      "Building wheels for collected packages: pyexecjs\n",
      "  Building wheel for pyexecjs (setup.py): started\n",
      "  Building wheel for pyexecjs (setup.py): finished with status 'done'\n",
      "  Created wheel for pyexecjs: filename=PyExecJS-1.5.1-py3-none-any.whl size=14581 sha256=7b1610b1f2cc05fde0d3dee9273a9451fc239d6883e9d8c1d66badb0e4b42e63\n",
      "  Stored in directory: c:\\users\\86158\\appdata\\local\\pip\\cache\\wheels\\5b\\ac\\94\\92a4835bff6f53c3faa26411e9db1a879d6e662c75b18a9603\n",
      "Successfully built pyexecjs\n",
      "Installing collected packages: pyexecjs\n",
      "Successfully installed pyexecjs-1.5.1\n"
     ]
    }
   ],
   "source": [
    "!pip install pyexecjs"
   ]
  },
  {
   "cell_type": "code",
   "execution_count": 12,
   "id": "d683aef5",
   "metadata": {},
   "outputs": [
    {
     "name": "stdout",
     "output_type": "stream",
     "text": [
      "[1, 2, 3]\n"
     ]
    }
   ],
   "source": [
    "import execjs\n",
    "# 必须掌握的函数之一 eval（expression）\n",
    "\n",
    "'''\n",
    "功能：如果你没有特定的javascript文件，而是想要直接执行给定的javascript表达式代码时使用\n",
    "（使用内置运行时）\n",
    "参数：expression是要执行的javascript字符串表达式\n",
    "返回值：js执行结果\n",
    "'''\n",
    "\n",
    "e=execjs.eval('a=new Array(1,2,3)')\n",
    "print(e)"
   ]
  },
  {
   "cell_type": "code",
   "execution_count": 18,
   "id": "d0d42a2f",
   "metadata": {},
   "outputs": [
    {
     "name": "stdout",
     "output_type": "stream",
     "text": [
      "3\n",
      "3\n"
     ]
    }
   ],
   "source": [
    "import execjs\n",
    "# 必须掌握的函数之二 compile（）\n",
    "'''\n",
    "功能：用于编译javascript代码，创建一个可执行的上下文。这个上下文可以用来执行预编译好的\n",
    "JavaScript表达式或函数\n",
    "参数：source必填参数，类型为字符串，表示要编译的JavaScript代码。\n",
    "返回值：返回一个execjs.context对象实列，该实例拥有eval、call等方法，\n",
    "可以用来执行JavaScript代码并获取结果\n",
    "'''\n",
    "\n",
    "# 可以直接编译一段js片段\n",
    "js_code1='''\n",
    "\n",
    "function add(a,b){\n",
    "    return a+b;\n",
    "}\n",
    "'''\n",
    "\n",
    "# 可以编译一个js文件\n",
    "with open('test.js','r') as f:\n",
    "    js_code2=f.read()\n",
    "    \n",
    "# 编译js代码\n",
    "ctx1=execjs.compile(js_code1)\n",
    "result=ctx1.call('add',1,2)\n",
    "print(result)\n",
    "\n",
    "ctx2=execjs.compile(js_code2)\n",
    "result=ctx2.call('add',1,2)\n",
    "print(result)"
   ]
  },
  {
   "cell_type": "code",
   "execution_count": 19,
   "id": "46283440",
   "metadata": {},
   "outputs": [
    {
     "name": "stdout",
     "output_type": "stream",
     "text": [
      "20\n"
     ]
    }
   ],
   "source": [
    "import execjs\n",
    "# 必须掌握的函数之二call（function_name,*args,**kwargs)\n",
    "\n",
    "# js代码片段\n",
    "js_code='''\n",
    "function add(a,b){\n",
    "   return a*b;\n",
    "}\n",
    "'''\n",
    "\n",
    "# 创建并编译js上下文\n",
    "ctx=execjs.compile(js_code)\n",
    "\n",
    "#使用call方法来调用js代码中的函数\n",
    "result=ctx.call('add',10,2)\n",
    "print(result)"
   ]
  },
  {
   "cell_type": "code",
   "execution_count": null,
   "id": "98893ca8",
   "metadata": {},
   "outputs": [],
   "source": []
  }
 ],
 "metadata": {
  "kernelspec": {
   "display_name": "Python 3 (ipykernel)",
   "language": "python",
   "name": "python3"
  },
  "language_info": {
   "codemirror_mode": {
    "name": "ipython",
    "version": 3
   },
   "file_extension": ".py",
   "mimetype": "text/x-python",
   "name": "python",
   "nbconvert_exporter": "python",
   "pygments_lexer": "ipython3",
   "version": "3.9.13"
  }
 },
 "nbformat": 4,
 "nbformat_minor": 5
}
