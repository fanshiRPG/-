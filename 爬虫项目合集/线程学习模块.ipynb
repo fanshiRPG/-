{
 "cells": [
  {
   "cell_type": "code",
   "execution_count": null,
   "id": "362a3889",
   "metadata": {
    "vscode": {
     "languageId": "plaintext"
    }
   },
   "outputs": [],
   "source": [
    "import threading\n",
    "import time\n",
    "from queue import Queue\n",
    "\n",
    "class CustomThread(threading.Thread):\n",
    "    def __init__(self, queue):\n",
    "        threading.Thread.__init__(self)\n",
    "        self.__queue = queue\n",
    "\n",
    "    def run(self):\n",
    "        while True:\n",
    "            q_method = self.__queue.get()\n",
    "            q_method()\n",
    "            self.__queue.task_done()\n",
    "\n",
    "def moyu():\n",
    "    print(\" 开始摸鱼 %s\" % (time.strftime(\"%Y-%m-%d %H:%M:%S\", time.localtime())))\n",
    "\n",
    "def queue_pool():\n",
    "    queue = Queue(5)\n",
    "    for i in range(queue.maxsize):\n",
    "        t = CustomThread(queue)\n",
    "        t.setDaemon(True)\n",
    "        t.start()\n",
    "\n",
    "    for i in range(20):\n",
    "        queue.put(moyu)\n",
    "    queue.join()\n",
    "\n",
    "if __name__ == '__main__':\n",
    "    queue_pool()"
   ]
  }
 ],
 "metadata": {
  "kernelspec": {
   "display_name": "Python 3 (ipykernel)",
   "language": "python",
   "name": "python3"
  },
  "language_info": {
   "codemirror_mode": {
    "name": "ipython",
    "version": 3
   },
   "file_extension": ".py",
   "mimetype": "text/x-python",
   "name": "python",
   "nbconvert_exporter": "python",
   "pygments_lexer": "ipython3",
   "version": "3.9.13"
  }
 },
 "nbformat": 4,
 "nbformat_minor": 5
}
