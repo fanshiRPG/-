{
 "cells": [
  {
   "cell_type": "markdown",
   "id": "bbcdf7f8",
   "metadata": {},
   "source": [
    "# 第一步检测软件是否可以打开"
   ]
  },
  {
   "cell_type": "code",
   "execution_count": 4,
   "id": "d004bb92",
   "metadata": {},
   "outputs": [],
   "source": [
    "import requests\n",
    "\n",
    "url='https://www.gaokao.cn/headSearch?'\n",
    "headers={\n",
    "    'user-agent':'Mozilla/5.0 (Windows NT 10.0; Win64; x64) AppleWebKit/537.36 (KHTML, like Gecko) Chrome/109.0.0.0 Safari/537.36 SLBrowser/9.0.3.5211 SLBChan/105',\n",
    "    'referer':'https://www.gaokao.cn/',\n",
    "   }\n",
    "response=requests.get(url,headers=headers)"
   ]
  },
  {
   "cell_type": "markdown",
   "id": "b0ea2fbd",
   "metadata": {},
   "source": [
    "# 第二步获取目标的网址"
   ]
  },
  {
   "cell_type": "code",
   "execution_count": 5,
   "id": "67342499",
   "metadata": {
    "collapsed": true
   },
   "outputs": [
    {
     "name": "stderr",
     "output_type": "stream",
     "text": [
      "Exception managing chrome: error sending request for url (https://googlechromelabs.github.io/chrome-for-testing/known-good-versions-with-downloads.json)\n",
      "The chromedriver version (130.0.6723.91) detected in PATH at C:\\mooctest\\chromedriver.exe might not be compatible with the detected chrome version (134.0.6998.89); currently, chromedriver  is recommended for chrome 134.*, so it is advised to delete the driver in PATH and retry\n"
     ]
    },
    {
     "ename": "SessionNotCreatedException",
     "evalue": "Message: session not created: This version of ChromeDriver only supports Chrome version 130\nCurrent browser version is 134.0.6998.89 with binary path C:\\Users\\86158\\AppData\\Local\\Google\\Chrome\\Application\\chrome.exe\nStacktrace:\n\tGetHandleVerifier [0x00007FF7F9D53AF5+28005]\n\t(No symbol) [0x00007FF7F9CB83F0]\n\t(No symbol) [0x00007FF7F9B5580A]\n\t(No symbol) [0x00007FF7F9B94397]\n\t(No symbol) [0x00007FF7F9B93465]\n\t(No symbol) [0x00007FF7F9B8DB25]\n\t(No symbol) [0x00007FF7F9B88DAE]\n\t(No symbol) [0x00007FF7F9BD6C71]\n\t(No symbol) [0x00007FF7F9BD62F0]\n\t(No symbol) [0x00007FF7F9BCB7E3]\n\t(No symbol) [0x00007FF7F9B975C8]\n\t(No symbol) [0x00007FF7F9B98731]\n\tGetHandleVerifier [0x00007FF7FA04646D+3118813]\n\tGetHandleVerifier [0x00007FF7FA096CC0+3448624]\n\tGetHandleVerifier [0x00007FF7FA08CF3D+3408301]\n\tGetHandleVerifier [0x00007FF7F9E1A44B+841403]\n\t(No symbol) [0x00007FF7F9CC344F]\n\t(No symbol) [0x00007FF7F9CBF4C4]\n\t(No symbol) [0x00007FF7F9CBF65D]\n\t(No symbol) [0x00007FF7F9CAEBB9]\n\tBaseThreadInitThunk [0x00007FFF3B8A259D+29]\n\tRtlUserThreadStart [0x00007FFF3C2AAF78+40]\n",
     "output_type": "error",
     "traceback": [
      "\u001b[1;31m---------------------------------------------------------------------------\u001b[0m",
      "\u001b[1;31mSessionNotCreatedException\u001b[0m                Traceback (most recent call last)",
      "\u001b[1;32m~\\AppData\\Local\\Temp\\ipykernel_16508\\2375811102.py\u001b[0m in \u001b[0;36m<module>\u001b[1;34m\u001b[0m\n\u001b[0;32m     12\u001b[0m \u001b[1;34m'湖北工程学院'\u001b[0m\u001b[1;33m,\u001b[0m\u001b[1;34m'湖北理工学院'\u001b[0m\u001b[1;33m,\u001b[0m\u001b[1;34m'湖北科技学院'\u001b[0m\u001b[1;33m,\u001b[0m\u001b[1;34m'湖北医药学院'\u001b[0m\u001b[1;33m,\u001b[0m\u001b[1;34m'江汉大学'\u001b[0m\u001b[1;33m,\u001b[0m\u001b[1;34m'三峡大学'\u001b[0m\u001b[1;33m,\u001b[0m\u001b[1;34m'湖北警官学院'\u001b[0m\u001b[1;33m,\u001b[0m\u001b[1;34m'荆楚理工学院'\u001b[0m\u001b[1;33m,\u001b[0m\u001b[1;34m'武汉音乐学院'\u001b[0m\u001b[1;33m,\u001b[0m\u001b[1;33m\u001b[0m\u001b[1;33m\u001b[0m\u001b[0m\n\u001b[0;32m     13\u001b[0m '湖北经济学院','武汉商学院','湖北第二师范学院']\n\u001b[1;32m---> 14\u001b[1;33m \u001b[0mweb\u001b[0m\u001b[1;33m=\u001b[0m\u001b[0mChrome\u001b[0m\u001b[1;33m(\u001b[0m\u001b[1;33m)\u001b[0m\u001b[1;33m\u001b[0m\u001b[1;33m\u001b[0m\u001b[0m\n\u001b[0m\u001b[0;32m     15\u001b[0m \u001b[0mwait\u001b[0m\u001b[1;33m=\u001b[0m\u001b[0mWebDriverWait\u001b[0m\u001b[1;33m(\u001b[0m\u001b[0mweb\u001b[0m\u001b[1;33m,\u001b[0m\u001b[1;36m10\u001b[0m\u001b[1;33m)\u001b[0m\u001b[1;33m\u001b[0m\u001b[1;33m\u001b[0m\u001b[0m\n\u001b[0;32m     16\u001b[0m \u001b[0murl\u001b[0m\u001b[1;33m=\u001b[0m\u001b[1;34m'https://www.gaokao.cn/headSearch?'\u001b[0m\u001b[1;33m\u001b[0m\u001b[1;33m\u001b[0m\u001b[0m\n",
      "\u001b[1;32m~\\AppData\\Roaming\\Python\\Python39\\site-packages\\selenium\\webdriver\\chrome\\webdriver.py\u001b[0m in \u001b[0;36m__init__\u001b[1;34m(self, options, service, keep_alive)\u001b[0m\n\u001b[0;32m     43\u001b[0m         \u001b[0moptions\u001b[0m \u001b[1;33m=\u001b[0m \u001b[0moptions\u001b[0m \u001b[1;32mif\u001b[0m \u001b[0moptions\u001b[0m \u001b[1;32melse\u001b[0m \u001b[0mOptions\u001b[0m\u001b[1;33m(\u001b[0m\u001b[1;33m)\u001b[0m\u001b[1;33m\u001b[0m\u001b[1;33m\u001b[0m\u001b[0m\n\u001b[0;32m     44\u001b[0m \u001b[1;33m\u001b[0m\u001b[0m\n\u001b[1;32m---> 45\u001b[1;33m         super().__init__(\n\u001b[0m\u001b[0;32m     46\u001b[0m             \u001b[0mbrowser_name\u001b[0m\u001b[1;33m=\u001b[0m\u001b[0mDesiredCapabilities\u001b[0m\u001b[1;33m.\u001b[0m\u001b[0mCHROME\u001b[0m\u001b[1;33m[\u001b[0m\u001b[1;34m\"browserName\"\u001b[0m\u001b[1;33m]\u001b[0m\u001b[1;33m,\u001b[0m\u001b[1;33m\u001b[0m\u001b[1;33m\u001b[0m\u001b[0m\n\u001b[0;32m     47\u001b[0m             \u001b[0mvendor_prefix\u001b[0m\u001b[1;33m=\u001b[0m\u001b[1;34m\"goog\"\u001b[0m\u001b[1;33m,\u001b[0m\u001b[1;33m\u001b[0m\u001b[1;33m\u001b[0m\u001b[0m\n",
      "\u001b[1;32m~\\AppData\\Roaming\\Python\\Python39\\site-packages\\selenium\\webdriver\\chromium\\webdriver.py\u001b[0m in \u001b[0;36m__init__\u001b[1;34m(self, browser_name, vendor_prefix, options, service, keep_alive)\u001b[0m\n\u001b[0;32m     64\u001b[0m \u001b[1;33m\u001b[0m\u001b[0m\n\u001b[0;32m     65\u001b[0m         \u001b[1;32mtry\u001b[0m\u001b[1;33m:\u001b[0m\u001b[1;33m\u001b[0m\u001b[1;33m\u001b[0m\u001b[0m\n\u001b[1;32m---> 66\u001b[1;33m             \u001b[0msuper\u001b[0m\u001b[1;33m(\u001b[0m\u001b[1;33m)\u001b[0m\u001b[1;33m.\u001b[0m\u001b[0m__init__\u001b[0m\u001b[1;33m(\u001b[0m\u001b[0mcommand_executor\u001b[0m\u001b[1;33m=\u001b[0m\u001b[0mexecutor\u001b[0m\u001b[1;33m,\u001b[0m \u001b[0moptions\u001b[0m\u001b[1;33m=\u001b[0m\u001b[0moptions\u001b[0m\u001b[1;33m)\u001b[0m\u001b[1;33m\u001b[0m\u001b[1;33m\u001b[0m\u001b[0m\n\u001b[0m\u001b[0;32m     67\u001b[0m         \u001b[1;32mexcept\u001b[0m \u001b[0mException\u001b[0m\u001b[1;33m:\u001b[0m\u001b[1;33m\u001b[0m\u001b[1;33m\u001b[0m\u001b[0m\n\u001b[0;32m     68\u001b[0m             \u001b[0mself\u001b[0m\u001b[1;33m.\u001b[0m\u001b[0mquit\u001b[0m\u001b[1;33m(\u001b[0m\u001b[1;33m)\u001b[0m\u001b[1;33m\u001b[0m\u001b[1;33m\u001b[0m\u001b[0m\n",
      "\u001b[1;32m~\\AppData\\Roaming\\Python\\Python39\\site-packages\\selenium\\webdriver\\remote\\webdriver.py\u001b[0m in \u001b[0;36m__init__\u001b[1;34m(self, command_executor, keep_alive, file_detector, options)\u001b[0m\n\u001b[0;32m    210\u001b[0m         \u001b[0mself\u001b[0m\u001b[1;33m.\u001b[0m\u001b[0m_authenticator_id\u001b[0m \u001b[1;33m=\u001b[0m \u001b[1;32mNone\u001b[0m\u001b[1;33m\u001b[0m\u001b[1;33m\u001b[0m\u001b[0m\n\u001b[0;32m    211\u001b[0m         \u001b[0mself\u001b[0m\u001b[1;33m.\u001b[0m\u001b[0mstart_client\u001b[0m\u001b[1;33m(\u001b[0m\u001b[1;33m)\u001b[0m\u001b[1;33m\u001b[0m\u001b[1;33m\u001b[0m\u001b[0m\n\u001b[1;32m--> 212\u001b[1;33m         \u001b[0mself\u001b[0m\u001b[1;33m.\u001b[0m\u001b[0mstart_session\u001b[0m\u001b[1;33m(\u001b[0m\u001b[0mcapabilities\u001b[0m\u001b[1;33m)\u001b[0m\u001b[1;33m\u001b[0m\u001b[1;33m\u001b[0m\u001b[0m\n\u001b[0m\u001b[0;32m    213\u001b[0m \u001b[1;33m\u001b[0m\u001b[0m\n\u001b[0;32m    214\u001b[0m         \u001b[0mself\u001b[0m\u001b[1;33m.\u001b[0m\u001b[0m_websocket_connection\u001b[0m \u001b[1;33m=\u001b[0m \u001b[1;32mNone\u001b[0m\u001b[1;33m\u001b[0m\u001b[1;33m\u001b[0m\u001b[0m\n",
      "\u001b[1;32m~\\AppData\\Roaming\\Python\\Python39\\site-packages\\selenium\\webdriver\\remote\\webdriver.py\u001b[0m in \u001b[0;36mstart_session\u001b[1;34m(self, capabilities)\u001b[0m\n\u001b[0;32m    297\u001b[0m \u001b[1;33m\u001b[0m\u001b[0m\n\u001b[0;32m    298\u001b[0m         \u001b[0mcaps\u001b[0m \u001b[1;33m=\u001b[0m \u001b[0m_create_caps\u001b[0m\u001b[1;33m(\u001b[0m\u001b[0mcapabilities\u001b[0m\u001b[1;33m)\u001b[0m\u001b[1;33m\u001b[0m\u001b[1;33m\u001b[0m\u001b[0m\n\u001b[1;32m--> 299\u001b[1;33m         \u001b[0mresponse\u001b[0m \u001b[1;33m=\u001b[0m \u001b[0mself\u001b[0m\u001b[1;33m.\u001b[0m\u001b[0mexecute\u001b[0m\u001b[1;33m(\u001b[0m\u001b[0mCommand\u001b[0m\u001b[1;33m.\u001b[0m\u001b[0mNEW_SESSION\u001b[0m\u001b[1;33m,\u001b[0m \u001b[0mcaps\u001b[0m\u001b[1;33m)\u001b[0m\u001b[1;33m[\u001b[0m\u001b[1;34m\"value\"\u001b[0m\u001b[1;33m]\u001b[0m\u001b[1;33m\u001b[0m\u001b[1;33m\u001b[0m\u001b[0m\n\u001b[0m\u001b[0;32m    300\u001b[0m         \u001b[0mself\u001b[0m\u001b[1;33m.\u001b[0m\u001b[0msession_id\u001b[0m \u001b[1;33m=\u001b[0m \u001b[0mresponse\u001b[0m\u001b[1;33m.\u001b[0m\u001b[0mget\u001b[0m\u001b[1;33m(\u001b[0m\u001b[1;34m\"sessionId\"\u001b[0m\u001b[1;33m)\u001b[0m\u001b[1;33m\u001b[0m\u001b[1;33m\u001b[0m\u001b[0m\n\u001b[0;32m    301\u001b[0m         \u001b[0mself\u001b[0m\u001b[1;33m.\u001b[0m\u001b[0mcaps\u001b[0m \u001b[1;33m=\u001b[0m \u001b[0mresponse\u001b[0m\u001b[1;33m.\u001b[0m\u001b[0mget\u001b[0m\u001b[1;33m(\u001b[0m\u001b[1;34m\"capabilities\"\u001b[0m\u001b[1;33m)\u001b[0m\u001b[1;33m\u001b[0m\u001b[1;33m\u001b[0m\u001b[0m\n",
      "\u001b[1;32m~\\AppData\\Roaming\\Python\\Python39\\site-packages\\selenium\\webdriver\\remote\\webdriver.py\u001b[0m in \u001b[0;36mexecute\u001b[1;34m(self, driver_command, params)\u001b[0m\n\u001b[0;32m    352\u001b[0m         \u001b[0mresponse\u001b[0m \u001b[1;33m=\u001b[0m \u001b[0mself\u001b[0m\u001b[1;33m.\u001b[0m\u001b[0mcommand_executor\u001b[0m\u001b[1;33m.\u001b[0m\u001b[0mexecute\u001b[0m\u001b[1;33m(\u001b[0m\u001b[0mdriver_command\u001b[0m\u001b[1;33m,\u001b[0m \u001b[0mparams\u001b[0m\u001b[1;33m)\u001b[0m\u001b[1;33m\u001b[0m\u001b[1;33m\u001b[0m\u001b[0m\n\u001b[0;32m    353\u001b[0m         \u001b[1;32mif\u001b[0m \u001b[0mresponse\u001b[0m\u001b[1;33m:\u001b[0m\u001b[1;33m\u001b[0m\u001b[1;33m\u001b[0m\u001b[0m\n\u001b[1;32m--> 354\u001b[1;33m             \u001b[0mself\u001b[0m\u001b[1;33m.\u001b[0m\u001b[0merror_handler\u001b[0m\u001b[1;33m.\u001b[0m\u001b[0mcheck_response\u001b[0m\u001b[1;33m(\u001b[0m\u001b[0mresponse\u001b[0m\u001b[1;33m)\u001b[0m\u001b[1;33m\u001b[0m\u001b[1;33m\u001b[0m\u001b[0m\n\u001b[0m\u001b[0;32m    355\u001b[0m             \u001b[0mresponse\u001b[0m\u001b[1;33m[\u001b[0m\u001b[1;34m\"value\"\u001b[0m\u001b[1;33m]\u001b[0m \u001b[1;33m=\u001b[0m \u001b[0mself\u001b[0m\u001b[1;33m.\u001b[0m\u001b[0m_unwrap_value\u001b[0m\u001b[1;33m(\u001b[0m\u001b[0mresponse\u001b[0m\u001b[1;33m.\u001b[0m\u001b[0mget\u001b[0m\u001b[1;33m(\u001b[0m\u001b[1;34m\"value\"\u001b[0m\u001b[1;33m,\u001b[0m \u001b[1;32mNone\u001b[0m\u001b[1;33m)\u001b[0m\u001b[1;33m)\u001b[0m\u001b[1;33m\u001b[0m\u001b[1;33m\u001b[0m\u001b[0m\n\u001b[0;32m    356\u001b[0m             \u001b[1;32mreturn\u001b[0m \u001b[0mresponse\u001b[0m\u001b[1;33m\u001b[0m\u001b[1;33m\u001b[0m\u001b[0m\n",
      "\u001b[1;32m~\\AppData\\Roaming\\Python\\Python39\\site-packages\\selenium\\webdriver\\remote\\errorhandler.py\u001b[0m in \u001b[0;36mcheck_response\u001b[1;34m(self, response)\u001b[0m\n\u001b[0;32m    227\u001b[0m                 \u001b[0malert_text\u001b[0m \u001b[1;33m=\u001b[0m \u001b[0mvalue\u001b[0m\u001b[1;33m[\u001b[0m\u001b[1;34m\"alert\"\u001b[0m\u001b[1;33m]\u001b[0m\u001b[1;33m.\u001b[0m\u001b[0mget\u001b[0m\u001b[1;33m(\u001b[0m\u001b[1;34m\"text\"\u001b[0m\u001b[1;33m)\u001b[0m\u001b[1;33m\u001b[0m\u001b[1;33m\u001b[0m\u001b[0m\n\u001b[0;32m    228\u001b[0m             \u001b[1;32mraise\u001b[0m \u001b[0mexception_class\u001b[0m\u001b[1;33m(\u001b[0m\u001b[0mmessage\u001b[0m\u001b[1;33m,\u001b[0m \u001b[0mscreen\u001b[0m\u001b[1;33m,\u001b[0m \u001b[0mstacktrace\u001b[0m\u001b[1;33m,\u001b[0m \u001b[0malert_text\u001b[0m\u001b[1;33m)\u001b[0m  \u001b[1;31m# type: ignore[call-arg]  # mypy is not smart enough here\u001b[0m\u001b[1;33m\u001b[0m\u001b[1;33m\u001b[0m\u001b[0m\n\u001b[1;32m--> 229\u001b[1;33m         \u001b[1;32mraise\u001b[0m \u001b[0mexception_class\u001b[0m\u001b[1;33m(\u001b[0m\u001b[0mmessage\u001b[0m\u001b[1;33m,\u001b[0m \u001b[0mscreen\u001b[0m\u001b[1;33m,\u001b[0m \u001b[0mstacktrace\u001b[0m\u001b[1;33m)\u001b[0m\u001b[1;33m\u001b[0m\u001b[1;33m\u001b[0m\u001b[0m\n\u001b[0m",
      "\u001b[1;31mSessionNotCreatedException\u001b[0m: Message: session not created: This version of ChromeDriver only supports Chrome version 130\nCurrent browser version is 134.0.6998.89 with binary path C:\\Users\\86158\\AppData\\Local\\Google\\Chrome\\Application\\chrome.exe\nStacktrace:\n\tGetHandleVerifier [0x00007FF7F9D53AF5+28005]\n\t(No symbol) [0x00007FF7F9CB83F0]\n\t(No symbol) [0x00007FF7F9B5580A]\n\t(No symbol) [0x00007FF7F9B94397]\n\t(No symbol) [0x00007FF7F9B93465]\n\t(No symbol) [0x00007FF7F9B8DB25]\n\t(No symbol) [0x00007FF7F9B88DAE]\n\t(No symbol) [0x00007FF7F9BD6C71]\n\t(No symbol) [0x00007FF7F9BD62F0]\n\t(No symbol) [0x00007FF7F9BCB7E3]\n\t(No symbol) [0x00007FF7F9B975C8]\n\t(No symbol) [0x00007FF7F9B98731]\n\tGetHandleVerifier [0x00007FF7FA04646D+3118813]\n\tGetHandleVerifier [0x00007FF7FA096CC0+3448624]\n\tGetHandleVerifier [0x00007FF7FA08CF3D+3408301]\n\tGetHandleVerifier [0x00007FF7F9E1A44B+841403]\n\t(No symbol) [0x00007FF7F9CC344F]\n\t(No symbol) [0x00007FF7F9CBF4C4]\n\t(No symbol) [0x00007FF7F9CBF65D]\n\t(No symbol) [0x00007FF7F9CAEBB9]\n\tBaseThreadInitThunk [0x00007FFF3B8A259D+29]\n\tRtlUserThreadStart [0x00007FFF3C2AAF78+40]\n"
     ]
    }
   ],
   "source": [
    "import time\n",
    "from selenium.webdriver import Chrome\n",
    "from selenium.webdriver.common.by import By\n",
    "from selenium.webdriver.common.keys import Keys\n",
    "from selenium.webdriver.support.wait import WebDriverWait\n",
    "from selenium.webdriver.support import expected_conditions as EC\n",
    "import re\n",
    "#from selenium.webdriver.common.action_chains import ActionChains\n",
    "ls=['武汉大学','华中科技大学','武汉科技大学','长江大学','武汉工程大学','中国地质大学（武汉）','武汉纺织大学','武汉轻工大学','武汉理工大学',\n",
    "'湖北工业大学','华中农业大学','湖北中医药大学','华中师范大学','湖北大学','湖北师范大学','黄冈师范学院','湖北民族大学',\n",
    "'汉江师范学院','湖北文理学院','中南财经政法大学','武汉体育学院','湖北美术学院','中南民族大学','湖北汽车工业学院',\n",
    "'湖北工程学院','湖北理工学院','湖北科技学院','湖北医药学院','江汉大学','三峡大学','湖北警官学院','荆楚理工学院','武汉音乐学院',\n",
    "'湖北经济学院','武汉商学院','湖北第二师范学院']\n",
    "web=Chrome()\n",
    "wait=WebDriverWait(web,10)\n",
    "url='https://www.gaokao.cn/headSearch?'\n",
    "web.get(url)\n",
    "web.maximize_window()\n",
    "time.sleep(3)\n",
    "for i in range(36):\n",
    "    web.switch_to.window(web.window_handles[0])\n",
    "    x0=web.find_element(By.XPATH,'//*[@id=\"headsearch\"]').send_keys(Keys.CONTROL,'a')\n",
    "    x1=web.find_element(By.XPATH,'//*[@id=\"headsearch\"]').send_keys(ls[i],Keys.ENTER)\n",
    "    x2=wait.until(EC.element_to_be_clickable((By.XPATH,'//*[@id=\"root\"]/div/div[1]/div/div/div[2]/div/div[3]/div/div[1]/div/div[2]/div[1]/div[2]/div[1]/div[2]/div[1]/h3/em/span'))).click()              \n",
    "    web.switch_to.window(web.window_handles[-1])\n",
    "                                            \n",
    "    div_element = web.find_element(By.XPATH,'/html/body/div[1]/div/div[1]/div/div/div[1]/div[2]/div[3]/div/div[1]/div/div[2]/div[2]/div[2]/div[1]/div[2]')  \n",
    "    all_elements = div_element.find_elements(By.XPATH, './a') \n",
    "    element_count = len(all_elements)\n",
    "    \n",
    "    if element_count>1:\n",
    "        x3=wait.until(EC.element_to_be_clickable((By.XPATH,'/html/body/div[1]/div/div[1]/div/div/div[1]/div[2]/div[3]/div/div[1]/div/div[2]/div[2]/div[2]/div[1]/div[2]/a[2]')))\n",
    "    else:\n",
    "        x3=wait.until(EC.element_to_be_clickable((By.XPATH,'/html/body/div[1]/div/div[1]/div/div/div[1]/div[2]/div[3]/div/div[1]/div/div[2]/div[2]/div[2]/div[1]/div[2]/a')))\n",
    "        \n",
    "    x4=x3.text.strip('/')\n",
    "    x3.click()\n",
    "    x5=str(x4)+'/xrld.com'\n",
    "    print(x5)\n",
    "\n",
    "#     x4=web.page_source\n",
    "#     x4=web.find_elements(By.TAG_NAME,'a')\n",
    "#     for href in x4:\n",
    "#         print(href.text)\n",
    "#         #if href.find_element(By.CLASS_NAME,'现任领导').text=='现任领导':\n",
    "#         x5=href.get_attribute('href')\n",
    "#         print(x5)\n",
    "        \n",
    "        \n",
    "        \n",
    "#     time.sleep(3)\n",
    "#     web.switch_to.window(web.window_handles[-1])\n",
    "#     web.close()\n",
    "    web.switch_to.window(web.window_handles[-1])\n",
    "    web.close()\n",
    "    web.switch_to.window(web.window_handles[-1])\n",
    "    web.close()\n",
    "web.quit()"
   ]
  },
  {
   "cell_type": "markdown",
   "id": "1e745791",
   "metadata": {},
   "source": [
    "# 进入所需现任领导网页"
   ]
  },
  {
   "cell_type": "code",
   "execution_count": null,
   "id": "cebb4855",
   "metadata": {},
   "outputs": [
    {
     "name": "stderr",
     "output_type": "stream",
     "text": [
      "There was an error managing chromedriver (error sending request for url (https://googlechromelabs.github.io/chrome-for-testing/known-good-versions-with-downloads.json)); using driver found in the cache\n"
     ]
    }
   ],
   "source": [
    "import time\n",
    "from selenium.webdriver import Chrome\n",
    "from selenium.webdriver.common.by import By\n",
    "from selenium.webdriver.common.keys import Keys\n",
    "from selenium.webdriver.support.wait import WebDriverWait\n",
    "from selenium.webdriver.support import expected_conditions as EC\n",
    "import re\n",
    "from selenium.webdriver.common.action_chains import ActionChains\n",
    "ls=['武汉大学','华中科技大学','武汉科技大学','长江大学','武汉工程大学','中国地质大学（武汉）','武汉纺织大学','武汉轻工大学','武汉理工大学',\n",
    "'湖北工业大学','华中农业大学','湖北中医药大学','华中师范大学','湖北大学','湖北师范大学','黄冈师范学院','湖北民族大学',\n",
    "'汉江师范学院','湖北文理学院','中南财经政法大学','武汉体育学院','湖北美术学院','中南民族大学','湖北汽车工业学院',\n",
    "'湖北工程学院','湖北理工学院','湖北科技学院','湖北医药学院','江汉大学','三峡大学','湖北警官学院','荆楚理工学院','武汉音乐学院',\n",
    "'湖北经济学院','武汉商学院','湖北第二师范学院']\n",
    "web=Chrome()\n",
    "wait=WebDriverWait(web,10)\n",
    "url='https://www.gaokao.cn/headSearch?'\n",
    "web.get(url)\n",
    "web.maximize_window()\n",
    "time.sleep(3)\n",
    "for i in range(36):\n",
    "    web.switch_to.window(web.window_handles[0])\n",
    "    x0=web.find_element(By.XPATH,'//*[@id=\"headsearch\"]').send_keys(Keys.CONTROL,'a')\n",
    "    x1=web.find_element(By.XPATH,'//*[@id=\"headsearch\"]').send_keys(ls[i],Keys.ENTER)\n",
    "    x2=wait.until(EC.element_to_be_clickable((By.XPATH,'//*[@id=\"root\"]/div/div[1]/div/div/div[2]/div/div[3]/div/div[1]/div/div[2]/div[1]/div[2]/div[1]/div[2]/div[1]/h3/em/span'))).click()              \n",
    "    web.switch_to.window(web.window_handles[-1])\n",
    "                                            \n",
    "    div_element = web.find_element(By.XPATH,'/html/body/div[1]/div/div[1]/div/div/div[1]/div[2]/div[3]/div/div[1]/div/div[2]/div[2]/div[2]/div[1]/div[2]')  \n",
    "    all_elements = div_element.find_elements(By.XPATH, './a') \n",
    "    element_count = len(all_elements)\n",
    "    \n",
    "    if element_count>1:\n",
    "        x3=wait.until(EC.element_to_be_clickable((By.XPATH,'/html/body/div[1]/div/div[1]/div/div/div[1]/div[2]/div[3]/div/div[1]/div/div[2]/div[2]/div[2]/div[1]/div[2]/a[2]'))).click()\n",
    "    else:\n",
    "        x3=wait.until(EC.element_to_be_clickable((By.XPATH,'/html/body/div[1]/div/div[1]/div/div/div[1]/div[2]/div[3]/div/div[1]/div/div[2]/div[2]/div[2]/div[1]/div[2]/a'))).click()\n",
    "        \n",
    "#     x4=web.page_source\n",
    "    web.switch_to.window(web.window_handles[-1])\n",
    "    x4=web.find_element(By.LINK_TEXT,'学校概况')\n",
    "    time.sleep(5)\n",
    "    ActionChains(web).move_to_element(x4).perform()\n",
    "    x5=web.find_element(By.LINK_TEXT,'现任领导').click()\n",
    "    time.sleep(5)\n",
    "    web.switch_to.window(web.window_handles[-1])\n",
    "    web.close()\n",
    "    web.switch_to.window(web.window_handles[-1])\n",
    "    web.close()\n",
    "web.quit()"
   ]
  },
  {
   "cell_type": "markdown",
   "id": "150c66b2",
   "metadata": {},
   "source": [
    "# 第四步转换成excel"
   ]
  },
  {
   "cell_type": "code",
   "execution_count": null,
   "id": "0652b708",
   "metadata": {},
   "outputs": [],
   "source": []
  }
 ],
 "metadata": {
  "kernelspec": {
   "display_name": "Python 3 (ipykernel)",
   "language": "python",
   "name": "python3"
  },
  "language_info": {
   "codemirror_mode": {
    "name": "ipython",
    "version": 3
   },
   "file_extension": ".py",
   "mimetype": "text/x-python",
   "name": "python",
   "nbconvert_exporter": "python",
   "pygments_lexer": "ipython3",
   "version": "3.9.13"
  }
 },
 "nbformat": 4,
 "nbformat_minor": 5
}
