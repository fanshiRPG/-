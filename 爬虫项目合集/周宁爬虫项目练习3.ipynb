{
 "cells": [
  {
   "cell_type": "code",
   "execution_count": 2,
   "id": "e4db2a32",
   "metadata": {},
   "outputs": [
    {
     "name": "stdout",
     "output_type": "stream",
     "text": [
      "{\"count\": 20, \"city\": \"\", \"return_count\": 0, \"action_label\": \"click_search\", \"has_more\": 0, \"page_id\": \"/search/\", \"request_id\": \"20240722152606762470D614B099A0931B\", \"cur_tab\": 3, \"tokens\": null, \"query_id\": \"6537385837821170952\", \"tab\": {\"tab_list\": [{\"tab_name\": \"\\u7efc\\u5408\", \"tab_id\": 1, \"tab_code\": \"news\"}, {\"tab_name\": \"\\u89c6\\u9891\", \"tab_id\": 2, \"tab_code\": \"video\"}, {\"tab_name\": \"\\u56fe\\u96c6\", \"tab_id\": 3, \"tab_code\": \"gallery\"}, {\"tab_name\": \"\\u7528\\u6237\", \"tab_id\": 4, \"tab_code\": \"pgc\"}, {\"tab_name\": \"\\u95ee\\u7b54\", \"tab_id\": 5, \"tab_code\": \"wenda\"}], \"cur_tab\": 3}, \"offset\": 0, \"action_label_web\": \"click_search\", \"show_tabs\": 1, \"data\": [], \"message\": \"success\", \"action_label_pgc\": \"click_search\"}\n"
     ]
    }
   ],
   "source": [
    "from urllib.parse import urlencode\n",
    "from requests.exceptions import RequestException\n",
    "import requests\n",
    "\n",
    "def get_page_index(offset,keyword):\n",
    "    data={\n",
    "        'offset':offset,\n",
    "        'format':'json',\n",
    "        'keyword':keyword,\n",
    "        'autoload':'true',\n",
    "        'count':'20',\n",
    "        'cur_tab':3\n",
    "    }\n",
    "    url='http://www.toutiao.com/search_content/?'+urlencode(data)\n",
    "    try:\n",
    "        response=requests.get(url)\n",
    "        if response.status_code==200:\n",
    "            return response.text\n",
    "        return None\n",
    "    except RequestException:\n",
    "        print('请求索引页出错')\n",
    "        return None\n",
    "\n",
    "def main():\n",
    "    html=get_page_index(0,'街拍')\n",
    "    print(html)\n",
    "\n",
    "    \n",
    "if __name__ == '__main__':\n",
    "    main()"
   ]
  },
  {
   "cell_type": "code",
   "execution_count": null,
   "id": "e8a8bb15",
   "metadata": {},
   "outputs": [],
   "source": []
  }
 ],
 "metadata": {
  "kernelspec": {
   "display_name": "Python 3 (ipykernel)",
   "language": "python",
   "name": "python3"
  },
  "language_info": {
   "codemirror_mode": {
    "name": "ipython",
    "version": 3
   },
   "file_extension": ".py",
   "mimetype": "text/x-python",
   "name": "python",
   "nbconvert_exporter": "python",
   "pygments_lexer": "ipython3",
   "version": "3.9.13"
  }
 },
 "nbformat": 4,
 "nbformat_minor": 5
}
