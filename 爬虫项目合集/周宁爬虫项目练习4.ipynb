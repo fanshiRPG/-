{
 "cells": [
  {
   "cell_type": "code",
   "execution_count": 2,
   "id": "8cb5bbed",
   "metadata": {
    "scrolled": false
   },
   "outputs": [
    {
     "name": "stdout",
     "output_type": "stream",
     "text": [
      "<!doctypehtml><html lang=\"zh-cn\"><meta charset=\"utf-8\"><meta http-equiv=\"X-UA-Compatible\"content=\"IE=edge,chrome=1\"><meta name=\"data-spm\"content=\"a3c0e\"><title>405</title><style>a,body,div,h2,html,p{margin:0;padding:0}a{text-decoration:none;color:#3b6ea3}.container{width:1000px;margin:auto;color:#696969}.header{padding:110px 0}.header .message{height:36px;padding-left:120px;background:url(https://errors.aliyun.com/images/TB1TpamHpXXXXaJXXXXeB7nYVXX-104-162.png) no-repeat 0 -128px;line-height:36px}.main{padding:50px 0;background:#f4f5f7}#block_image{position:relative;left:120px}.footer{margin-top:30px;text-align:right}.footer a{padding:8px 30px;border-radius:10px;border:1px solid #4babec}.footer a:hover{opacity:.8}.alert-shadow{display:none;position:absolute;top:0;left:0;width:100%;height:100%;background:#999;opacity:.5}.alert{display:none;position:absolute;top:200px;left:50%;width:600px;margin-left:-300px;padding-bottom:25px;border:1px solid #ddd;box-shadow:0 2px 2px 1px rgba(0,0,0,.1);background:#fff;font-size:14px;color:#696969}.alert h2{margin:0 2px;padding:10px 15px 5px 15px;font-size:14px;font-weight:400;border-bottom:1px solid #ddd}.alert a{display:block;position:absolute;right:10px;top:8px;width:30px;height:20px;text-align:center}.alert p{padding:20px 15px}</style><body data-spm=\"7663354\"><div data-spm=\"1998410538\"><div class=\"header\"><div class=\"container\"><div class=\"message\"><div id=\"block_message\"></div><div><span id=\"block_url_tips\"></span><strong id=\"url\"></strong></div><div><span id=\"block_time_tips\"></span><strong id=\"time\"></strong></div><div><span id=\"block_traceid_tips\"></span><strong id=\"traceid\"></strong></div></div></div></div><div class=\"main\"><div class=\"container\"><img id=\"block_image\"></div></div><div class=\"footer\"><div class=\"container\"><a target=\"_blank\"id=\"report\"href=\"javascript:;\"data-spm-click=\"gostr=/waf.123.123;locaid=d001;\"style=\"display:none\">误报反馈</a></div></div></div><script>function getRenderData(){var e=document.getElementById(\"renderData\");return JSON.parse(e.innerHTML)}function convertTimestampToString(e){e=parseInt(e,10),e=new Date(e);return e.getFullYear()+\"-\"+(\"0\"+(e.getMonth()+1)).slice(-2)+\"-\"+(\"0\"+e.getDate()).slice(-2)+\" \"+(\"0\"+e.getHours()).slice(-2)+\":\"+(\"0\"+e.getMinutes()).slice(-2)+\":\"+(\"0\"+e.getSeconds()).slice(-2)}var en_tips={block_message:\"Sorry, your request has been blocked as it may cause potential threats to the server's security.\",block_url_tips:\"Current URL: \",block_time_tips:\"Request Time: \",block_traceid_tips:\"Your Request ID is: \"},cn_tips={block_message:\"很抱歉，由于您访问的URL有可能对网站造成安全威胁，您的访问被阻断。\",block_url_tips:\"当前网址: \",block_time_tips:\"请求时间: \",block_traceid_tips:\"您的请求ID是: \"};window.onload=function(){var e=getRenderData();if(e){var t,n=cn_tips,i=document.getElementById(\"block_image\");for(t in\"en\"===e.lang?(n=en_tips,i.src=\"https://g.alicdn.com/sd-base/static/1.0.5/image/405.png\",i.id=\"en_block\"):(i.src=\"https://errors.aliyun.com/images/TB15QGaHpXXXXXOaXXXXia39XXX-660-117.png\",document.getElementById(\"report\").style.display=\"inline\"),n)document.getElementById(t).innerText=n[t];i=e.traceid,e=i.slice(8,21);document.getElementById(\"traceid\").innerText=i,document.getElementById(\"url\").innerText=location.href.split(\"?\")[0],document.getElementById(\"time\").innerText=convertTimestampToString(e)}}</script><textarea id=\"renderData\" style=\"display:none\">{\"traceid\":\"276077b917217916323325112e1d46\",\"lang\":\"cn\"}</textarea>\n"
     ]
    }
   ],
   "source": [
    "import requests\n",
    "\n",
    "url='https://passport.17k.com/'\n",
    "\n",
    "session=requests.session()\n",
    "data={\n",
    "    'loginName':'15872689101',\n",
    "    'password':'5201314zhouning'\n",
    "}\n",
    "headers={\n",
    "    'Accept':'text/html,application/xhtml+xml,application/xml;q=0.9,image/avif,image/webp,image/apng,*/*;q=0.8,application/signed-exchange;v=b3;q=0.7',\n",
    "    'Accept-Encoding':'gzip, deflate, br, zstd',\n",
    "    'Connection':'keep-alive',\n",
    "    'Referer':url,\n",
    "    'User-Agent':'Mozilla/5.0 (Windows NT 10.0; Win64; x64) AppleWebKit/537.36 (KHTML, like Gecko) Chrome/126.0.0.0 Safari/537.36'\n",
    "}\n",
    "resp=session.get(url,headers=headers)\n",
    "print(resp.text)"
   ]
  },
  {
   "cell_type": "code",
   "execution_count": null,
   "id": "8f8e8ab7",
   "metadata": {},
   "outputs": [],
   "source": []
  }
 ],
 "metadata": {
  "kernelspec": {
   "display_name": "Python 3 (ipykernel)",
   "language": "python",
   "name": "python3"
  },
  "language_info": {
   "codemirror_mode": {
    "name": "ipython",
    "version": 3
   },
   "file_extension": ".py",
   "mimetype": "text/x-python",
   "name": "python",
   "nbconvert_exporter": "python",
   "pygments_lexer": "ipython3",
   "version": "3.9.13"
  }
 },
 "nbformat": 4,
 "nbformat_minor": 5
}
